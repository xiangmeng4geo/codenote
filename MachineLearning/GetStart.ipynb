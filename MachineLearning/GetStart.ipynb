{
 "cells": [
  {
   "cell_type": "markdown",
   "metadata": {},
   "source": [
    "# 机器学习起步\n",
    "\n",
    "最近在学习Coursera上的NG的机器学习课程。怕看了又忘，所以整理一下课程中的一些知识点、实验到Github上。一方面自己复习使用，另一方面也希望能够为其他人提供一些帮助。\n",
    "\n",
    "因为目前工作是做Python开发的，对python的科学计算以及简洁性情有独钟，笔记自然用上了Jupyter(IPython notebook)来提高笔记整理效率，况且Github对Jupiter支持的比较好，能够显示笔记的运行结果。所以课程中的程序实例将会用Python、Octave两种实现方式来做。   \n",
    "\n",
    "首先，机器学习被广泛接受的定义：\n",
    "\n",
    "> \"A computer program is said to learn from experience E with respect to some task T and some performance measure P, if its performance on T, as measured by P, improves with experience E.\" —— Tom Mitchell \n",
    "\n",
    ">翻译过来也就是：\n",
    "“对于某类任务T和性能度量P，如果一个计算机程序在T上以P衡量的性能随着经验E而自我完善，那么我们称这个计算机程序在从经验E学习。”\n",
    "\n",
    "可以把这个定义当成一个机器学习的模板，要用机器学习来解决一个问题，首先我们要思考收集什么样的数据（E）需要做出什么样的决策(T),以及如何评价结果（P）。\n",
    "TODO:给个例子"
   ]
  },
  {
   "cell_type": "markdown",
   "metadata": {},
   "source": [
    "机器学习可以划分出：\n",
    "\n",
    "* 监督学习\n",
    "* 无监督学习\n",
    "\n",
    "监督学习与非监督学习的区别在于，是否把标准答案在训练时给出。\n",
    "\n",
    "比方说，如果我要预测房价，训练的时候给了一堆要素与对应的房价，就是把房价告诉了机器，那么就算监督学习。而我们只给出了两段录音，却不给出哪个波段是谁的声音（可能我们自己也不知道应该如何区分），这种叫做无监督学习。"
   ]
  },
  {
   "cell_type": "markdown",
   "metadata": {},
   "source": [
    "对于监督学习，又可以划分出：\n",
    "* 回归\n",
    "* 分类\n",
    "\n",
    "回归和分类的区别在于，结果是连续的，就是回归，结果是离散的，就是分类。\n"
   ]
  },
  {
   "cell_type": "code",
   "execution_count": null,
   "metadata": {},
   "outputs": [],
   "source": []
  }
 ],
 "metadata": {
  "kernelspec": {
   "display_name": "Octave",
   "language": "octave",
   "name": "octave"
  },
  "language_info": {
   "file_extension": ".m",
   "help_links": [
    {
     "text": "MetaKernel Magics",
     "url": "https://github.com/calysto/metakernel/blob/master/metakernel/magics/README.md"
    }
   ],
   "mimetype": "text/x-octave",
   "name": "octave",
   "version": "0.17.2"
  }
 },
 "nbformat": 4,
 "nbformat_minor": 2
}
