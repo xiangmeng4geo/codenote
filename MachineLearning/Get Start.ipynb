{
 "cells": [
  {
   "cell_type": "markdown",
   "metadata": {},
   "source": [
    "# 机器学习起步\n",
    "\n",
    "最近在学习Coursera上的NG的机器学习课程。怕看了又忘，所以整理一下课程中的一些知识点、实验到Github上。一方面自己复习使用，另一方面也希望能够为其他人提供一些帮助。\n",
    "\n",
    "因为目前工作是做Python开发的，对python的科学计算以及简洁性情有独钟，笔记自然用上了Jupyter(IPython notebook)来提高笔记整理效率，况且Github对Jupiter支持的比较好，能够显示笔记的运行结果。所以课程中的程序实例将会用Python、Octave两种实现方式来做。"
   ]
  },
  {
   "cell_type": "code",
   "execution_count": null,
   "metadata": {},
   "outputs": [],
   "source": [
    "1+1"
   ]
  }
 ],
 "metadata": {
  "kernelspec": {
   "display_name": "Octave",
   "language": "octave",
   "name": "octave"
  },
  "language_info": {
   "file_extension": ".m",
   "help_links": [
    {
     "text": "MetaKernel Magics",
     "url": "https://github.com/calysto/metakernel/blob/master/metakernel/magics/README.md"
    }
   ],
   "mimetype": "text/x-octave",
   "name": "octave",
   "version": "0.17.2"
  }
 },
 "nbformat": 4,
 "nbformat_minor": 2
}
